{
 "cells": [
  {
   "cell_type": "code",
   "execution_count": 1,
   "id": "5859087d-d000-4822-8e8a-4535d191ce15",
   "metadata": {},
   "outputs": [],
   "source": [
    "import numpy as np\n",
    "import pandas as pd\n",
    "\n",
    "import matplotlib.pyplot as plt\n",
    "import seaborn as sns\n",
    "sns.set_style(\"darkgrid\")\n",
    "%matplotlib inline\n",
    "\n",
    "import string\n",
    "import nltk\n",
    "from nltk.corpus import stopwords\n",
    "\n",
    "from wordcloud import WordCloud\n",
    "from sklearn.feature_extraction.text import CountVectorizer\n",
    "from nltk.stem import WordNetLemmatizer\n",
    "\n",
    "from sklearn.model_selection import train_test_split \n",
    "from sklearn import metrics"
   ]
  },
  {
   "cell_type": "code",
   "execution_count": 13,
   "id": "fa0c3d0b-3294-48a3-9c84-e693a9c8c34b",
   "metadata": {
    "scrolled": true
   },
   "outputs": [],
   "source": [
    "messages = pd.read_csv('complete_dataset.csv')"
   ]
  },
  {
   "cell_type": "code",
   "execution_count": 17,
   "id": "181a3586-c149-4ca8-bd1c-e111580924e2",
   "metadata": {},
   "outputs": [
    {
     "data": {
      "text/html": [
       "<div>\n",
       "<style scoped>\n",
       "    .dataframe tbody tr th:only-of-type {\n",
       "        vertical-align: middle;\n",
       "    }\n",
       "\n",
       "    .dataframe tbody tr th {\n",
       "        vertical-align: top;\n",
       "    }\n",
       "\n",
       "    .dataframe thead th {\n",
       "        text-align: right;\n",
       "    }\n",
       "</style>\n",
       "<table border=\"1\" class=\"dataframe\">\n",
       "  <thead>\n",
       "    <tr style=\"text-align: right;\">\n",
       "      <th></th>\n",
       "      <th>label</th>\n",
       "      <th>message</th>\n",
       "    </tr>\n",
       "  </thead>\n",
       "  <tbody>\n",
       "    <tr>\n",
       "      <th>0</th>\n",
       "      <td>1</td>\n",
       "      <td>Enter your PIN to proceed</td>\n",
       "    </tr>\n",
       "    <tr>\n",
       "      <th>1</th>\n",
       "      <td>1</td>\n",
       "      <td>Suspicious activity detected, confirm your OTP</td>\n",
       "    </tr>\n",
       "    <tr>\n",
       "      <th>2</th>\n",
       "      <td>1</td>\n",
       "      <td>Fraud alert: please enter your card number</td>\n",
       "    </tr>\n",
       "    <tr>\n",
       "      <th>3</th>\n",
       "      <td>1</td>\n",
       "      <td>Please provide your card number for verification</td>\n",
       "    </tr>\n",
       "    <tr>\n",
       "      <th>4</th>\n",
       "      <td>1</td>\n",
       "      <td>Your account has been flagged, confirm your on...</td>\n",
       "    </tr>\n",
       "  </tbody>\n",
       "</table>\n",
       "</div>"
      ],
      "text/plain": [
       "   label                                            message\n",
       "0      1                          Enter your PIN to proceed\n",
       "1      1     Suspicious activity detected, confirm your OTP\n",
       "2      1         Fraud alert: please enter your card number\n",
       "3      1   Please provide your card number for verification\n",
       "4      1  Your account has been flagged, confirm your on..."
      ]
     },
     "execution_count": 17,
     "metadata": {},
     "output_type": "execute_result"
    }
   ],
   "source": [
    "messages.head()"
   ]
  },
  {
   "cell_type": "code",
   "execution_count": 18,
   "id": "e8fb921f-9b9c-4394-b664-11a182ecb712",
   "metadata": {},
   "outputs": [
    {
     "data": {
      "text/html": [
       "<div>\n",
       "<style scoped>\n",
       "    .dataframe tbody tr th:only-of-type {\n",
       "        vertical-align: middle;\n",
       "    }\n",
       "\n",
       "    .dataframe tbody tr th {\n",
       "        vertical-align: top;\n",
       "    }\n",
       "\n",
       "    .dataframe thead th {\n",
       "        text-align: right;\n",
       "    }\n",
       "</style>\n",
       "<table border=\"1\" class=\"dataframe\">\n",
       "  <thead>\n",
       "    <tr style=\"text-align: right;\">\n",
       "      <th></th>\n",
       "      <th>label</th>\n",
       "      <th>message</th>\n",
       "    </tr>\n",
       "  </thead>\n",
       "  <tbody>\n",
       "    <tr>\n",
       "      <th>107966</th>\n",
       "      <td>0</td>\n",
       "      <td>Weâ€™ve received your request and are processi...</td>\n",
       "    </tr>\n",
       "    <tr>\n",
       "      <th>107967</th>\n",
       "      <td>1</td>\n",
       "      <td>Your debit card has been blocked. Please provi...</td>\n",
       "    </tr>\n",
       "    <tr>\n",
       "      <th>107968</th>\n",
       "      <td>1</td>\n",
       "      <td>Your account is compromised. Kindly provide yo...</td>\n",
       "    </tr>\n",
       "    <tr>\n",
       "      <th>107969</th>\n",
       "      <td>1</td>\n",
       "      <td>Your debit card has been blocked. Please provi...</td>\n",
       "    </tr>\n",
       "    <tr>\n",
       "      <th>107970</th>\n",
       "      <td>0</td>\n",
       "      <td>Can I assist you with resetting your password?</td>\n",
       "    </tr>\n",
       "  </tbody>\n",
       "</table>\n",
       "</div>"
      ],
      "text/plain": [
       "        label                                            message\n",
       "107966      0  Weâ€™ve received your request and are processi...\n",
       "107967      1  Your debit card has been blocked. Please provi...\n",
       "107968      1  Your account is compromised. Kindly provide yo...\n",
       "107969      1  Your debit card has been blocked. Please provi...\n",
       "107970      0     Can I assist you with resetting your password?"
      ]
     },
     "execution_count": 18,
     "metadata": {},
     "output_type": "execute_result"
    }
   ],
   "source": [
    "messages.tail()"
   ]
  },
  {
   "cell_type": "code",
   "execution_count": 16,
   "id": "e1fc0276-7095-41ac-b235-849155fe7b93",
   "metadata": {},
   "outputs": [],
   "source": [
    "messages.columns = [\"label\", \"message\"]"
   ]
  },
  {
   "cell_type": "markdown",
   "id": "541af24f-e7f6-47df-b9bf-cac5d7c3486e",
   "metadata": {},
   "source": [
    "## EDA"
   ]
  },
  {
   "cell_type": "code",
   "execution_count": 19,
   "id": "53e48dd9-b537-4edb-b758-ebba84e710fe",
   "metadata": {},
   "outputs": [
    {
     "name": "stdout",
     "output_type": "stream",
     "text": [
      "<class 'pandas.core.frame.DataFrame'>\n",
      "RangeIndex: 107971 entries, 0 to 107970\n",
      "Data columns (total 2 columns):\n",
      " #   Column   Non-Null Count   Dtype \n",
      "---  ------   --------------   ----- \n",
      " 0   label    107971 non-null  int64 \n",
      " 1   message  107971 non-null  object\n",
      "dtypes: int64(1), object(1)\n",
      "memory usage: 1.6+ MB\n"
     ]
    }
   ],
   "source": [
    "messages.info()"
   ]
  },
  {
   "cell_type": "code",
   "execution_count": 20,
   "id": "f3768c00-9301-4184-b613-3e7d98d892a8",
   "metadata": {},
   "outputs": [
    {
     "data": {
      "text/html": [
       "<div>\n",
       "<style scoped>\n",
       "    .dataframe tbody tr th:only-of-type {\n",
       "        vertical-align: middle;\n",
       "    }\n",
       "\n",
       "    .dataframe tbody tr th {\n",
       "        vertical-align: top;\n",
       "    }\n",
       "\n",
       "    .dataframe thead th {\n",
       "        text-align: right;\n",
       "    }\n",
       "</style>\n",
       "<table border=\"1\" class=\"dataframe\">\n",
       "  <thead>\n",
       "    <tr style=\"text-align: right;\">\n",
       "      <th></th>\n",
       "      <th>label</th>\n",
       "    </tr>\n",
       "  </thead>\n",
       "  <tbody>\n",
       "    <tr>\n",
       "      <th>count</th>\n",
       "      <td>107971.000000</td>\n",
       "    </tr>\n",
       "    <tr>\n",
       "      <th>mean</th>\n",
       "      <td>0.482370</td>\n",
       "    </tr>\n",
       "    <tr>\n",
       "      <th>std</th>\n",
       "      <td>0.499691</td>\n",
       "    </tr>\n",
       "    <tr>\n",
       "      <th>min</th>\n",
       "      <td>0.000000</td>\n",
       "    </tr>\n",
       "    <tr>\n",
       "      <th>25%</th>\n",
       "      <td>0.000000</td>\n",
       "    </tr>\n",
       "    <tr>\n",
       "      <th>50%</th>\n",
       "      <td>0.000000</td>\n",
       "    </tr>\n",
       "    <tr>\n",
       "      <th>75%</th>\n",
       "      <td>1.000000</td>\n",
       "    </tr>\n",
       "    <tr>\n",
       "      <th>max</th>\n",
       "      <td>1.000000</td>\n",
       "    </tr>\n",
       "  </tbody>\n",
       "</table>\n",
       "</div>"
      ],
      "text/plain": [
       "               label\n",
       "count  107971.000000\n",
       "mean        0.482370\n",
       "std         0.499691\n",
       "min         0.000000\n",
       "25%         0.000000\n",
       "50%         0.000000\n",
       "75%         1.000000\n",
       "max         1.000000"
      ]
     },
     "execution_count": 20,
     "metadata": {},
     "output_type": "execute_result"
    }
   ],
   "source": [
    "messages.describe()"
   ]
  },
  {
   "cell_type": "code",
   "execution_count": 21,
   "id": "7cf0c0f6-d7e2-40f2-b6bd-aa70d8378cbd",
   "metadata": {},
   "outputs": [
    {
     "data": {
      "text/html": [
       "<div>\n",
       "<style scoped>\n",
       "    .dataframe tbody tr th:only-of-type {\n",
       "        vertical-align: middle;\n",
       "    }\n",
       "\n",
       "    .dataframe tbody tr th {\n",
       "        vertical-align: top;\n",
       "    }\n",
       "\n",
       "    .dataframe thead th {\n",
       "        text-align: right;\n",
       "    }\n",
       "</style>\n",
       "<table border=\"1\" class=\"dataframe\">\n",
       "  <thead>\n",
       "    <tr style=\"text-align: right;\">\n",
       "      <th></th>\n",
       "      <th>label</th>\n",
       "      <th>0</th>\n",
       "      <th>1</th>\n",
       "    </tr>\n",
       "  </thead>\n",
       "  <tbody>\n",
       "    <tr>\n",
       "      <th rowspan=\"4\" valign=\"top\">message</th>\n",
       "      <th>count</th>\n",
       "      <td>55889</td>\n",
       "      <td>52082</td>\n",
       "    </tr>\n",
       "    <tr>\n",
       "      <th>unique</th>\n",
       "      <td>4854</td>\n",
       "      <td>1135</td>\n",
       "    </tr>\n",
       "    <tr>\n",
       "      <th>top</th>\n",
       "      <td>Your recent purchase was successful</td>\n",
       "      <td>Your account has been flagged, confirm your on...</td>\n",
       "    </tr>\n",
       "    <tr>\n",
       "      <th>freq</th>\n",
       "      <td>5089</td>\n",
       "      <td>5104</td>\n",
       "    </tr>\n",
       "  </tbody>\n",
       "</table>\n",
       "</div>"
      ],
      "text/plain": [
       "label                                             0  \\\n",
       "message count                                 55889   \n",
       "        unique                                 4854   \n",
       "        top     Your recent purchase was successful   \n",
       "        freq                                   5089   \n",
       "\n",
       "label                                                           1  \n",
       "message count                                               52082  \n",
       "        unique                                               1135  \n",
       "        top     Your account has been flagged, confirm your on...  \n",
       "        freq                                                 5104  "
      ]
     },
     "execution_count": 21,
     "metadata": {},
     "output_type": "execute_result"
    }
   ],
   "source": [
    "messages.groupby('label').describe().T"
   ]
  },
  {
   "cell_type": "code",
   "execution_count": 22,
   "id": "595fe2d8-2491-41ae-890b-ce5d595d31d9",
   "metadata": {},
   "outputs": [
    {
     "data": {
      "text/html": [
       "<div>\n",
       "<style scoped>\n",
       "    .dataframe tbody tr th:only-of-type {\n",
       "        vertical-align: middle;\n",
       "    }\n",
       "\n",
       "    .dataframe tbody tr th {\n",
       "        vertical-align: top;\n",
       "    }\n",
       "\n",
       "    .dataframe thead th {\n",
       "        text-align: right;\n",
       "    }\n",
       "</style>\n",
       "<table border=\"1\" class=\"dataframe\">\n",
       "  <thead>\n",
       "    <tr style=\"text-align: right;\">\n",
       "      <th></th>\n",
       "      <th>label</th>\n",
       "      <th>message</th>\n",
       "      <th>length</th>\n",
       "    </tr>\n",
       "  </thead>\n",
       "  <tbody>\n",
       "    <tr>\n",
       "      <th>0</th>\n",
       "      <td>1</td>\n",
       "      <td>Enter your PIN to proceed</td>\n",
       "      <td>25</td>\n",
       "    </tr>\n",
       "    <tr>\n",
       "      <th>1</th>\n",
       "      <td>1</td>\n",
       "      <td>Suspicious activity detected, confirm your OTP</td>\n",
       "      <td>46</td>\n",
       "    </tr>\n",
       "    <tr>\n",
       "      <th>2</th>\n",
       "      <td>1</td>\n",
       "      <td>Fraud alert: please enter your card number</td>\n",
       "      <td>42</td>\n",
       "    </tr>\n",
       "    <tr>\n",
       "      <th>3</th>\n",
       "      <td>1</td>\n",
       "      <td>Please provide your card number for verification</td>\n",
       "      <td>48</td>\n",
       "    </tr>\n",
       "    <tr>\n",
       "      <th>4</th>\n",
       "      <td>1</td>\n",
       "      <td>Your account has been flagged, confirm your on...</td>\n",
       "      <td>61</td>\n",
       "    </tr>\n",
       "  </tbody>\n",
       "</table>\n",
       "</div>"
      ],
      "text/plain": [
       "   label                                            message  length\n",
       "0      1                          Enter your PIN to proceed      25\n",
       "1      1     Suspicious activity detected, confirm your OTP      46\n",
       "2      1         Fraud alert: please enter your card number      42\n",
       "3      1   Please provide your card number for verification      48\n",
       "4      1  Your account has been flagged, confirm your on...      61"
      ]
     },
     "execution_count": 22,
     "metadata": {},
     "output_type": "execute_result"
    }
   ],
   "source": [
    "messages['length'] = messages['message'].apply(len)\n",
    "messages.head()"
   ]
  },
  {
   "cell_type": "code",
   "execution_count": 23,
   "id": "8165b3f4-557b-4705-b3b3-1178954711cb",
   "metadata": {},
   "outputs": [
    {
     "data": {
      "text/html": [
       "<div>\n",
       "<style scoped>\n",
       "    .dataframe tbody tr th:only-of-type {\n",
       "        vertical-align: middle;\n",
       "    }\n",
       "\n",
       "    .dataframe tbody tr th {\n",
       "        vertical-align: top;\n",
       "    }\n",
       "\n",
       "    .dataframe thead th {\n",
       "        text-align: right;\n",
       "    }\n",
       "</style>\n",
       "<table border=\"1\" class=\"dataframe\">\n",
       "  <thead>\n",
       "    <tr style=\"text-align: right;\">\n",
       "      <th></th>\n",
       "      <th>message</th>\n",
       "      <th>counts</th>\n",
       "    </tr>\n",
       "  </thead>\n",
       "  <tbody>\n",
       "    <tr>\n",
       "      <th>0</th>\n",
       "      <td>Your account has been flagged, confirm your on...</td>\n",
       "      <td>5104</td>\n",
       "    </tr>\n",
       "    <tr>\n",
       "      <th>1</th>\n",
       "      <td>Your recent purchase was successful</td>\n",
       "      <td>5089</td>\n",
       "    </tr>\n",
       "    <tr>\n",
       "      <th>2</th>\n",
       "      <td>We need your card number to resolve the issue</td>\n",
       "      <td>5089</td>\n",
       "    </tr>\n",
       "    <tr>\n",
       "      <th>3</th>\n",
       "      <td>Fraud alert: please enter your card number</td>\n",
       "      <td>5079</td>\n",
       "    </tr>\n",
       "    <tr>\n",
       "      <th>4</th>\n",
       "      <td>Enter your OTP to prevent account suspension</td>\n",
       "      <td>5074</td>\n",
       "    </tr>\n",
       "  </tbody>\n",
       "</table>\n",
       "</div>"
      ],
      "text/plain": [
       "                                             message  counts\n",
       "0  Your account has been flagged, confirm your on...    5104\n",
       "1                Your recent purchase was successful    5089\n",
       "2      We need your card number to resolve the issue    5089\n",
       "3         Fraud alert: please enter your card number    5079\n",
       "4       Enter your OTP to prevent account suspension    5074"
      ]
     },
     "execution_count": 23,
     "metadata": {},
     "output_type": "execute_result"
    }
   ],
   "source": [
    "# Count the frequency of top 5 messages.\n",
    "messages['message'].value_counts().rename_axis(['message']).reset_index(name='counts').head()"
   ]
  },
  {
   "cell_type": "markdown",
   "id": "ece9d5aa-8460-4eb1-8286-e067384afe70",
   "metadata": {},
   "source": [
    "## Data Visualization"
   ]
  },
  {
   "cell_type": "code",
   "execution_count": 24,
   "id": "5ca11db5-7295-4ded-bb98-aba5f6a82fe2",
   "metadata": {},
   "outputs": [
    {
     "data": {
      "image/png": "[encoded data removed]",
      "text/plain": [
       "<Figure size 600x600 with 1 Axes>"
      ]
     },
     "metadata": {},
     "output_type": "display_data"
    }
   ],
   "source": [
    "messages[\"label\"].value_counts().plot(kind = 'pie',explode=[0, 0.1],figsize=(6, 6),autopct='%1.1f%%',shadow=True)\n",
    "plt.title(\"Spam vs Ham\")\n",
    "plt.legend([\"Ham\", \"Spam\"])\n",
    "plt.show()"
   ]
  },
  {
   "cell_type": "code",
   "execution_count": 25,
   "id": "eebc3cf1-ffc2-46d3-b26d-82245ff3c684",
   "metadata": {},
   "outputs": [
    {
     "data": {
      "text/plain": [
       "Text(0, 0.5, 'Frequency')"
      ]
     },
     "execution_count": 25,
     "metadata": {},
     "output_type": "execute_result"
    },
    {
     "data": {
      "image/png": "[encoded data removed]",
      "text/plain": [
       "<Figure size 1200x600 with 1 Axes>"
      ]
     },
     "metadata": {},
     "output_type": "display_data"
    }
   ],
   "source": [
    "plt.figure(figsize=(12,6))\n",
    "messages['length'].plot(bins=100, kind='hist') # with 100 length bins (100 length intervals) \n",
    "plt.title(\"Frequency Distribution of Message Length\")\n",
    "plt.xlabel(\"Length\")\n",
    "plt.ylabel(\"Frequency\")"
   ]
  },
  {
   "cell_type": "code",
   "execution_count": 26,
   "id": "bf5ea6cc-1ada-43ae-9dec-7ea83c503394",
   "metadata": {},
   "outputs": [
    {
     "data": {
      "text/plain": [
       "count    107971.000000\n",
       "mean         43.214613\n",
       "std          19.919066\n",
       "min           2.000000\n",
       "25%          31.000000\n",
       "50%          44.000000\n",
       "75%          48.000000\n",
       "max         910.000000\n",
       "Name: length, dtype: float64"
      ]
     },
     "execution_count": 26,
     "metadata": {},
     "output_type": "execute_result"
    }
   ],
   "source": [
    "messages['length'].describe()"
   ]
  },
  {
   "cell_type": "code",
   "execution_count": 27,
   "id": "f5f41a98-f97f-4972-a7e5-9b97c1865697",
   "metadata": {},
   "outputs": [
    {
     "data": {
      "text/plain": [
       "\"For me the love should start with attraction.i should feel that I need her every time around me.she should be the first thing which comes in my thoughts.I would start the day and end it with her.she should be there every time I dream.love will be then when my every breath has her name.my life should happen around her.my life will be named to her.I would cry for her.will give all my happiness and take all her sorrows.I will be ready to fight with anyone for her.I will be in love when I will be doing the craziest things for her.love will be when I don't have to proove anyone that my girl is the most beautiful lady on the whole planet.I will always be singing praises for her.love will be when I start up making chicken curry and end up makiing sambar.life will be the most beautiful then.will get every morning and thank god for the day because she is with me.I would like to say a lot..will tell later..\""
      ]
     },
     "execution_count": 27,
     "metadata": {},
     "output_type": "execute_result"
    }
   ],
   "source": [
    "messages[messages['length'] == 910]['message'].iloc[0]"
   ]
  },
  {
   "cell_type": "code",
   "execution_count": 28,
   "id": "f1ac417d-4753-4775-bdd1-df0fd969f96e",
   "metadata": {},
   "outputs": [
    {
     "data": {
      "text/plain": [
       "array([<Axes: title={'center': '0'}>, <Axes: title={'center': '1'}>],\n",
       "      dtype=object)"
      ]
     },
     "execution_count": 28,
     "metadata": {},
     "output_type": "execute_result"
    },
    {
     "data": {
      "image/png": "[encoded data removed]",
      "text/plain": [
       "<Figure size 1200x400 with 2 Axes>"
      ]
     },
     "metadata": {},
     "output_type": "display_data"
    }
   ],
   "source": [
    "messages.hist(column='length', by='label', bins=50,figsize=(12,4))"
   ]
  },
  {
   "cell_type": "code",
   "execution_count": 29,
   "id": "c7cdea44-8a8f-490f-8285-2c987f56bfa5",
   "metadata": {},
   "outputs": [],
   "source": [
    "def text_preprocess(mess):\n",
    "    \"\"\"\n",
    "    Takes in a string of text, then performs the following:\n",
    "    1. Remove all punctuation\n",
    "    2. Remove all stopwords\n",
    "    3. Returns a list of the cleaned text\n",
    "    \"\"\"\n",
    "    # Check characters to see if they are in punctuation\n",
    "    nopunc = [char for char in mess if char not in string.punctuation]\n",
    "\n",
    "    # Join the characters again to form the string.\n",
    "    nopunc = ''.join(nopunc)\n",
    "    nopunc = nopunc.lower()\n",
    "    \n",
    "    # Now just remove any stopwords and non alphabets\n",
    "    nostop=[word for word in nopunc.split() if word.lower() not in stopwords.words('english') and word.isalpha()]\n",
    "    \n",
    "    return nostop"
   ]
  },
  {
   "cell_type": "code",
   "execution_count": 30,
   "id": "e798fc1b-e480-4e91-b297-5c6d6f4baa8d",
   "metadata": {},
   "outputs": [
    {
     "name": "stdout",
     "output_type": "stream",
     "text": [
      "No of spam messages :  52082\n",
      "No of ham messages :  55889\n"
     ]
    }
   ],
   "source": [
    "spam_messages = messages[messages[\"label\"] == 1][\"message\"]\n",
    "ham_messages = messages[messages[\"label\"] == 0][\"message\"]\n",
    "print(\"No of spam messages : \",len(spam_messages))\n",
    "print(\"No of ham messages : \",len(ham_messages))"
   ]
  },
  {
   "cell_type": "markdown",
   "id": "4606d587-7eaf-490f-8842-83082fd5a8c0",
   "metadata": {},
   "source": [
    "## Wordcloud"
   ]
  },
  {
   "cell_type": "code",
   "execution_count": 31,
   "id": "5afb7521-6a6b-49c7-892a-1883bd43f9ba",
   "metadata": {},
   "outputs": [],
   "source": [
    "# This may take a while....\n",
    "spam_words = text_preprocess(spam_messages)"
   ]
  },
  {
   "cell_type": "code",
   "execution_count": 32,
   "id": "05e6039f-92fe-4443-aae8-bf0d414b34da",
   "metadata": {},
   "outputs": [
    {
     "data": {
      "text/plain": [
       "['enter',\n",
       " 'pin',\n",
       " 'proceedsuspicious',\n",
       " 'activity',\n",
       " 'confirm',\n",
       " 'otpfraud',\n",
       " 'please',\n",
       " 'enter',\n",
       " 'card',\n",
       " 'numberplease']"
      ]
     },
     "execution_count": 32,
     "metadata": {},
     "output_type": "execute_result"
    }
   ],
   "source": [
    "# lets print some spam words\n",
    "spam_words[:10]"
   ]
  },
  {
   "cell_type": "code",
   "execution_count": null,
   "id": "a52f4dfc-21b5-4cca-8b05-269155342900",
   "metadata": {},
   "outputs": [],
   "source": [
    "spam_wordcloud = WordCloud(width=600, height=400).generate(' '.join(spam_words))\n",
    "plt.figure( figsize=(10,8), facecolor='k')\n",
    "plt.imshow(spam_wordcloud)\n",
    "plt.axis(\"off\")\n",
    "plt.tight_layout(pad=0)\n",
    "plt.show()"
   ]
  },
  {
   "cell_type": "code",
   "execution_count": 34,
   "id": "707f60c4-6dfc-4842-8411-594d17717a39",
   "metadata": {},
   "outputs": [
    {
     "name": "stdout",
     "output_type": "stream",
     "text": [
      "Top 10 Spam words are :\n",
      "\n",
      "card       15565\n",
      "account    10515\n",
      "number     10398\n",
      "enter      10211\n",
      "confirm    10167\n",
      "pin         9972\n",
      "please      5453\n",
      "need        5277\n",
      "provide     5259\n",
      "resolve     5192\n",
      "Name: count, dtype: int64\n"
     ]
    }
   ],
   "source": [
    "print(\"Top 10 Spam words are :\\n\")\n",
    "print(pd.Series(spam_words).value_counts().head(10))"
   ]
  },
  {
   "cell_type": "code",
   "execution_count": 35,
   "id": "d6d9cc7a-a066-4b1f-b107-1ba226bd6c6a",
   "metadata": {},
   "outputs": [],
   "source": [
    "# This may take a while...\n",
    "ham_words = text_preprocess(ham_messages)"
   ]
  },
  {
   "cell_type": "code",
   "execution_count": 36,
   "id": "4aef1f9c-b9f2-4b43-9fc9-334fc1b44abc",
   "metadata": {},
   "outputs": [
    {
     "data": {
      "text/plain": [
       "['thank',\n",
       " 'using',\n",
       " 'serviceyour',\n",
       " 'payment',\n",
       " 'receivedthank',\n",
       " 'paymentthank',\n",
       " 'paymentyour',\n",
       " 'payment',\n",
       " 'receivedyour',\n",
       " 'account']"
      ]
     },
     "execution_count": 36,
     "metadata": {},
     "output_type": "execute_result"
    }
   ],
   "source": [
    "# lets pring some ham words\n",
    "ham_words[:10]"
   ]
  },
  {
   "cell_type": "code",
   "execution_count": null,
   "id": "11229eb8-a1b5-4a20-b460-08c8315d3d7d",
   "metadata": {},
   "outputs": [],
   "source": [
    "ham_wordcloud = WordCloud(width=600, height=400).generate(' '.join(ham_words))\n",
    "plt.figure( figsize=(10,8), facecolor='k')\n",
    "plt.imshow(ham_wordcloud)\n",
    "plt.axis(\"off\")\n",
    "plt.tight_layout(pad=0)\n",
    "plt.show()"
   ]
  },
  {
   "cell_type": "code",
   "execution_count": 38,
   "id": "b8cd8e05-1ee8-4eb2-b4c8-732ed9263fbd",
   "metadata": {},
   "outputs": [
    {
     "name": "stdout",
     "output_type": "stream",
     "text": [
      "Top 10 Ham words are :\n",
      "\n",
      "account         10148\n",
      "recent          10028\n",
      "good             5199\n",
      "successfully     5127\n",
      "order            5114\n",
      "purchase         5091\n",
      "subscription     5070\n",
      "using            5041\n",
      "received         5037\n",
      "transaction      5029\n",
      "Name: count, dtype: int64\n"
     ]
    }
   ],
   "source": [
    "print(\"Top 10 Ham words are :\\n\")\n",
    "print(pd.Series(ham_words).value_counts().head(10))"
   ]
  },
  {
   "cell_type": "markdown",
   "id": "37fff760-305a-4b79-8ff4-de3b9ca0ebd6",
   "metadata": {},
   "source": [
    "## Data Transformation "
   ]
  },
  {
   "cell_type": "code",
   "execution_count": 39,
   "id": "03a6bf43-a494-4026-9ad2-e9abac383469",
   "metadata": {},
   "outputs": [
    {
     "data": {
      "text/html": [
       "<div>\n",
       "<style scoped>\n",
       "    .dataframe tbody tr th:only-of-type {\n",
       "        vertical-align: middle;\n",
       "    }\n",
       "\n",
       "    .dataframe tbody tr th {\n",
       "        vertical-align: top;\n",
       "    }\n",
       "\n",
       "    .dataframe thead th {\n",
       "        text-align: right;\n",
       "    }\n",
       "</style>\n",
       "<table border=\"1\" class=\"dataframe\">\n",
       "  <thead>\n",
       "    <tr style=\"text-align: right;\">\n",
       "      <th></th>\n",
       "      <th>label</th>\n",
       "      <th>message</th>\n",
       "      <th>length</th>\n",
       "    </tr>\n",
       "  </thead>\n",
       "  <tbody>\n",
       "    <tr>\n",
       "      <th>0</th>\n",
       "      <td>1</td>\n",
       "      <td>Enter your PIN to proceed</td>\n",
       "      <td>25</td>\n",
       "    </tr>\n",
       "    <tr>\n",
       "      <th>1</th>\n",
       "      <td>1</td>\n",
       "      <td>Suspicious activity detected, confirm your OTP</td>\n",
       "      <td>46</td>\n",
       "    </tr>\n",
       "    <tr>\n",
       "      <th>2</th>\n",
       "      <td>1</td>\n",
       "      <td>Fraud alert: please enter your card number</td>\n",
       "      <td>42</td>\n",
       "    </tr>\n",
       "    <tr>\n",
       "      <th>3</th>\n",
       "      <td>1</td>\n",
       "      <td>Please provide your card number for verification</td>\n",
       "      <td>48</td>\n",
       "    </tr>\n",
       "    <tr>\n",
       "      <th>4</th>\n",
       "      <td>1</td>\n",
       "      <td>Your account has been flagged, confirm your on...</td>\n",
       "      <td>61</td>\n",
       "    </tr>\n",
       "  </tbody>\n",
       "</table>\n",
       "</div>"
      ],
      "text/plain": [
       "   label                                            message  length\n",
       "0      1                          Enter your PIN to proceed      25\n",
       "1      1     Suspicious activity detected, confirm your OTP      46\n",
       "2      1         Fraud alert: please enter your card number      42\n",
       "3      1   Please provide your card number for verification      48\n",
       "4      1  Your account has been flagged, confirm your on...      61"
      ]
     },
     "execution_count": 39,
     "metadata": {},
     "output_type": "execute_result"
    }
   ],
   "source": [
    "messages.head()"
   ]
  },
  {
   "cell_type": "code",
   "execution_count": 40,
   "id": "02916dc3-e46c-4169-a300-ef85282190ae",
   "metadata": {},
   "outputs": [],
   "source": [
    "# This might take a while....\n",
    "\n",
    "# Lets remove punctuations/ stopwords from all SMS \n",
    "messages[\"message\"] = messages[\"message\"].apply(text_preprocess)"
   ]
  },
  {
   "cell_type": "code",
   "execution_count": 41,
   "id": "b7b75657-7d2d-4d5e-9015-cb7113746be3",
   "metadata": {},
   "outputs": [
    {
     "name": "stderr",
     "output_type": "stream",
     "text": [
      "/tmp/ipykernel_2454/3197290416.py:2: FutureWarning: using <function <lambda> at 0x3ff5fd17e20> in Series.agg cannot aggregate and has been deprecated. Use Series.transform to keep behavior unchanged.\n",
      "  messages[\"message\"] = messages[\"message\"].agg(lambda x: ' '.join(map(str, x)))\n"
     ]
    }
   ],
   "source": [
    "# Conver the SMS into string from list\n",
    "messages[\"message\"] = messages[\"message\"].agg(lambda x: ' '.join(map(str, x)))"
   ]
  },
  {
   "cell_type": "code",
   "execution_count": 42,
   "id": "2126b6b9-103a-4490-8487-d61b4bb00248",
   "metadata": {},
   "outputs": [
    {
     "data": {
      "text/html": [
       "<div>\n",
       "<style scoped>\n",
       "    .dataframe tbody tr th:only-of-type {\n",
       "        vertical-align: middle;\n",
       "    }\n",
       "\n",
       "    .dataframe tbody tr th {\n",
       "        vertical-align: top;\n",
       "    }\n",
       "\n",
       "    .dataframe thead th {\n",
       "        text-align: right;\n",
       "    }\n",
       "</style>\n",
       "<table border=\"1\" class=\"dataframe\">\n",
       "  <thead>\n",
       "    <tr style=\"text-align: right;\">\n",
       "      <th></th>\n",
       "      <th>label</th>\n",
       "      <th>message</th>\n",
       "      <th>length</th>\n",
       "    </tr>\n",
       "  </thead>\n",
       "  <tbody>\n",
       "    <tr>\n",
       "      <th>0</th>\n",
       "      <td>1</td>\n",
       "      <td>enter pin proceed</td>\n",
       "      <td>25</td>\n",
       "    </tr>\n",
       "    <tr>\n",
       "      <th>1</th>\n",
       "      <td>1</td>\n",
       "      <td>suspicious activity detected confirm otp</td>\n",
       "      <td>46</td>\n",
       "    </tr>\n",
       "    <tr>\n",
       "      <th>2</th>\n",
       "      <td>1</td>\n",
       "      <td>fraud alert please enter card number</td>\n",
       "      <td>42</td>\n",
       "    </tr>\n",
       "    <tr>\n",
       "      <th>3</th>\n",
       "      <td>1</td>\n",
       "      <td>please provide card number verification</td>\n",
       "      <td>48</td>\n",
       "    </tr>\n",
       "    <tr>\n",
       "      <th>4</th>\n",
       "      <td>1</td>\n",
       "      <td>account flagged confirm onetime password</td>\n",
       "      <td>61</td>\n",
       "    </tr>\n",
       "  </tbody>\n",
       "</table>\n",
       "</div>"
      ],
      "text/plain": [
       "   label                                   message  length\n",
       "0      1                         enter pin proceed      25\n",
       "1      1  suspicious activity detected confirm otp      46\n",
       "2      1      fraud alert please enter card number      42\n",
       "3      1   please provide card number verification      48\n",
       "4      1  account flagged confirm onetime password      61"
      ]
     },
     "execution_count": 42,
     "metadata": {},
     "output_type": "execute_result"
    }
   ],
   "source": [
    "messages.head()"
   ]
  },
  {
   "cell_type": "code",
   "execution_count": 43,
   "id": "b1e1b12a-63e5-4da5-8bf1-20d291bc68d4",
   "metadata": {},
   "outputs": [
    {
     "data": {
      "text/plain": [
       "'account flagged confirm onetime password'"
      ]
     },
     "execution_count": 43,
     "metadata": {},
     "output_type": "execute_result"
    }
   ],
   "source": [
    "messages[\"message\"][7]"
   ]
  },
  {
   "cell_type": "code",
   "execution_count": 44,
   "id": "7d47ef35-fdf2-424f-b5cd-f4cc32915113",
   "metadata": {},
   "outputs": [
    {
     "data": {
      "text/html": [
       "<div>\n",
       "<style scoped>\n",
       "    .dataframe tbody tr th:only-of-type {\n",
       "        vertical-align: middle;\n",
       "    }\n",
       "\n",
       "    .dataframe tbody tr th {\n",
       "        vertical-align: top;\n",
       "    }\n",
       "\n",
       "    .dataframe thead th {\n",
       "        text-align: right;\n",
       "    }\n",
       "</style>\n",
       "<table border=\"1\" class=\"dataframe\">\n",
       "  <thead>\n",
       "    <tr style=\"text-align: right;\">\n",
       "      <th></th>\n",
       "      <th>label</th>\n",
       "      <th>message</th>\n",
       "      <th>length</th>\n",
       "    </tr>\n",
       "  </thead>\n",
       "  <tbody>\n",
       "    <tr>\n",
       "      <th>0</th>\n",
       "      <td>1</td>\n",
       "      <td>enter pin proceed</td>\n",
       "      <td>25</td>\n",
       "    </tr>\n",
       "    <tr>\n",
       "      <th>1</th>\n",
       "      <td>1</td>\n",
       "      <td>suspicious activity detected confirm otp</td>\n",
       "      <td>46</td>\n",
       "    </tr>\n",
       "    <tr>\n",
       "      <th>2</th>\n",
       "      <td>1</td>\n",
       "      <td>fraud alert please enter card number</td>\n",
       "      <td>42</td>\n",
       "    </tr>\n",
       "    <tr>\n",
       "      <th>3</th>\n",
       "      <td>1</td>\n",
       "      <td>please provide card number verification</td>\n",
       "      <td>48</td>\n",
       "    </tr>\n",
       "    <tr>\n",
       "      <th>4</th>\n",
       "      <td>1</td>\n",
       "      <td>account flagged confirm onetime password</td>\n",
       "      <td>61</td>\n",
       "    </tr>\n",
       "  </tbody>\n",
       "</table>\n",
       "</div>"
      ],
      "text/plain": [
       "   label                                   message  length\n",
       "0      1                         enter pin proceed      25\n",
       "1      1  suspicious activity detected confirm otp      46\n",
       "2      1      fraud alert please enter card number      42\n",
       "3      1   please provide card number verification      48\n",
       "4      1  account flagged confirm onetime password      61"
      ]
     },
     "execution_count": 44,
     "metadata": {},
     "output_type": "execute_result"
    }
   ],
   "source": [
    "messages.head()"
   ]
  },
  {
   "cell_type": "markdown",
   "id": "986b8641-85b5-41ab-a1c2-26b9f74607d3",
   "metadata": {},
   "source": [
    "## Creating Bag Of Words"
   ]
  },
  {
   "cell_type": "code",
   "execution_count": 45,
   "id": "5d2fa1f3-6793-4345-b308-e401b6ec9c90",
   "metadata": {},
   "outputs": [
    {
     "name": "stdout",
     "output_type": "stream",
     "text": [
      "20 Bag of Words (BOW) Features: \n",
      "\n",
      "['abnormally' 'aboutas' 'abroad' 'absence' 'absolutely' 'abstract' 'abt'\n",
      " 'abta' 'aburo' 'abuse' 'abusers' 'ac' 'academic' 'acc' 'accent'\n",
      " 'accenture' 'accept' 'accepted' 'access' 'accessed']\n",
      "\n",
      "Total number of vocab words :  8723\n"
     ]
    }
   ],
   "source": [
    "# Creating the Bag of Words\n",
    "\n",
    "# Note the here we are passing already process messages (after removing punctuations and stopwords)\n",
    "\n",
    "vectorizer = CountVectorizer()\n",
    "bow_transformer = vectorizer.fit(messages['message'])\n",
    "\n",
    "print(\"20 Bag of Words (BOW) Features: \\n\")\n",
    "print(vectorizer.get_feature_names_out()[20:40])\n",
    "\n",
    "print(\"\\nTotal number of vocab words : \",len(vectorizer.vocabulary_))"
   ]
  },
  {
   "cell_type": "code",
   "execution_count": 46,
   "id": "3c3c3379-fe92-4d83-a102-25e36de3f523",
   "metadata": {},
   "outputs": [
    {
     "name": "stdout",
     "output_type": "stream",
     "text": [
      "please provide card number verification\n"
     ]
    }
   ],
   "source": [
    "message4 = messages['message'][3]\n",
    "print(message4)"
   ]
  },
  {
   "cell_type": "code",
   "execution_count": 47,
   "id": "b44b2158-910e-46b0-9b24-f8f9df25ddcc",
   "metadata": {},
   "outputs": [
    {
     "name": "stdout",
     "output_type": "stream",
     "text": [
      "  (0, 1080)\t1\n",
      "  (0, 5106)\t1\n",
      "  (0, 5604)\t1\n",
      "  (0, 5872)\t1\n",
      "  (0, 8096)\t1\n",
      "(1, 8723)\n"
     ]
    }
   ],
   "source": [
    "# fit_transform : Learn the vocabulary dictionary and return term-document matrix.\n",
    "bow4 = bow_transformer.transform([message4])\n",
    "print(bow4)\n",
    "print(bow4.shape)"
   ]
  },
  {
   "cell_type": "code",
   "execution_count": 48,
   "id": "e24859ca-23ca-40b0-b7d3-7c5b70d139cb",
   "metadata": {},
   "outputs": [
    {
     "name": "stdout",
     "output_type": "stream",
     "text": [
      "questionstd\n"
     ]
    }
   ],
   "source": [
    "print(bow_transformer.get_feature_names_out()[5945])"
   ]
  },
  {
   "cell_type": "code",
   "execution_count": 49,
   "id": "5e18184f-43d8-4aa6-9632-3fd2573185e7",
   "metadata": {},
   "outputs": [],
   "source": [
    "messages_bow = bow_transformer.transform(messages['message'])"
   ]
  },
  {
   "cell_type": "code",
   "execution_count": 50,
   "id": "9c20de44-2215-44fe-9ac2-136df23ae6d3",
   "metadata": {},
   "outputs": [
    {
     "name": "stdout",
     "output_type": "stream",
     "text": [
      "Shape of Sparse Matrix:  (107971, 8723)\n",
      "Amount of Non-Zero occurences:  439656\n"
     ]
    }
   ],
   "source": [
    "print('Shape of Sparse Matrix: ', messages_bow.shape)\n",
    "print('Amount of Non-Zero occurences: ', messages_bow.nnz)"
   ]
  },
  {
   "cell_type": "markdown",
   "id": "8a32ed38-48e3-4005-8bd7-50e845ebbee7",
   "metadata": {},
   "source": [
    "## TF-IDF"
   ]
  },
  {
   "cell_type": "code",
   "execution_count": 51,
   "id": "d43bf009-d70f-4cad-bae6-bff356d89e81",
   "metadata": {},
   "outputs": [],
   "source": [
    "from sklearn.feature_extraction.text import TfidfTransformer\n",
    "\n",
    "tfidf_transformer = TfidfTransformer().fit(messages_bow)"
   ]
  },
  {
   "cell_type": "code",
   "execution_count": 52,
   "id": "e182a7e1-6ea2-4b8c-893e-7ce82b71158b",
   "metadata": {},
   "outputs": [
    {
     "name": "stdout",
     "output_type": "stream",
     "text": [
      "  (0, 8096)\t0.5206736453437911\n",
      "  (0, 5872)\t0.5152507116846767\n",
      "  (0, 5604)\t0.4252472143373154\n",
      "  (0, 5106)\t0.3764722817064532\n",
      "  (0, 1080)\t0.37529866367725373\n"
     ]
    }
   ],
   "source": [
    "tfidf4 = tfidf_transformer.transform(bow4)\n",
    "print(tfidf4)"
   ]
  },
  {
   "cell_type": "code",
   "execution_count": 53,
   "id": "ad0068b4-2a37-4ffd-a4eb-9afb90253e07",
   "metadata": {},
   "outputs": [
    {
     "name": "stdout",
     "output_type": "stream",
     "text": [
      "questionstd\n",
      "hannaford\n"
     ]
    }
   ],
   "source": [
    "print(bow_transformer.get_feature_names_out()[5945])\n",
    "print(bow_transformer.get_feature_names_out()[3141])"
   ]
  },
  {
   "cell_type": "code",
   "execution_count": 54,
   "id": "1ed54fc3-2126-47a2-95ca-b08898dc1b00",
   "metadata": {},
   "outputs": [
    {
     "name": "stdout",
     "output_type": "stream",
     "text": [
      "8.112290398755398\n"
     ]
    }
   ],
   "source": [
    "print(tfidf_transformer.idf_[bow_transformer.vocabulary_['say']])"
   ]
  },
  {
   "cell_type": "code",
   "execution_count": 55,
   "id": "2d67d484-3831-484e-bff4-0745f05c03bb",
   "metadata": {},
   "outputs": [
    {
     "name": "stdout",
     "output_type": "stream",
     "text": [
      "(107971, 8723)\n"
     ]
    }
   ],
   "source": [
    "messages_tfidf = tfidf_transformer.transform(messages_bow)\n",
    "print(messages_tfidf.shape)"
   ]
  },
  {
   "cell_type": "code",
   "execution_count": 56,
   "id": "1aa45120-0e1f-48a9-9c2e-c37a58cba25a",
   "metadata": {},
   "outputs": [
    {
     "data": {
      "text/plain": [
       "0                           enter pin proceed\n",
       "1    suspicious activity detected confirm otp\n",
       "2        fraud alert please enter card number\n",
       "3     please provide card number verification\n",
       "4    account flagged confirm onetime password\n",
       "5        fraud alert please enter card number\n",
       "6    suspicious activity detected confirm otp\n",
       "7    account flagged confirm onetime password\n",
       "8     please provide card number verification\n",
       "9                           enter pin proceed\n",
       "Name: message, dtype: object"
      ]
     },
     "execution_count": 56,
     "metadata": {},
     "output_type": "execute_result"
    }
   ],
   "source": [
    "messages[\"message\"][:10]"
   ]
  },
  {
   "cell_type": "code",
   "execution_count": 57,
   "id": "6f9db517-dbcb-485c-b26c-e16fa8727155",
   "metadata": {},
   "outputs": [
    {
     "name": "stdout",
     "output_type": "stream",
     "text": [
      "(107971, 8567)\n",
      "8567\n"
     ]
    }
   ],
   "source": [
    "from sklearn.feature_extraction.text import TfidfVectorizer\n",
    "\n",
    "vec = TfidfVectorizer(encoding = \"latin-1\", strip_accents = \"unicode\", stop_words = \"english\")\n",
    "features = vec.fit_transform(messages[\"message\"])\n",
    "print(features.shape)\n",
    "\n",
    "print(len(vec.vocabulary_))"
   ]
  },
  {
   "cell_type": "markdown",
   "id": "368c3adc-c7d9-44cb-93be-d609456ddb38",
   "metadata": {},
   "source": [
    "## Train Test Split"
   ]
  },
  {
   "cell_type": "code",
   "execution_count": 58,
   "id": "a88ec8b2-dbcb-437d-a525-c1f2557ab806",
   "metadata": {},
   "outputs": [],
   "source": [
    "msg_train, msg_test, label_train, label_test = \\\n",
    "train_test_split(messages_tfidf, messages['label'], test_size=0.2)"
   ]
  },
  {
   "cell_type": "code",
   "execution_count": 59,
   "id": "9d19bb15-15b2-46cd-84f2-fafef6229d81",
   "metadata": {},
   "outputs": [
    {
     "name": "stdout",
     "output_type": "stream",
     "text": [
      "train dataset features size :  (86376, 8723)\n",
      "train dataset label size (86376,)\n",
      "\n",
      "\n",
      "test dataset features size (21595, 8723)\n",
      "test dataset lable size (21595,)\n"
     ]
    }
   ],
   "source": [
    "print(\"train dataset features size : \",msg_train.shape)\n",
    "print(\"train dataset label size\", label_train.shape)\n",
    "\n",
    "print(\"\\n\")\n",
    "\n",
    "print(\"test dataset features size\", msg_test.shape)\n",
    "print(\"test dataset lable size\", label_test.shape)"
   ]
  },
  {
   "cell_type": "code",
   "execution_count": 60,
   "id": "e1cf248d-fde3-4c97-9058-95f3457b9cb5",
   "metadata": {},
   "outputs": [],
   "source": [
    "from sklearn.naive_bayes import MultinomialNB\n",
    "\n",
    "clf = MultinomialNB()\n",
    "spam_detect_model = clf.fit(msg_train, label_train)"
   ]
  },
  {
   "cell_type": "code",
   "execution_count": 61,
   "id": "61a5648c-840c-467d-81ea-4ed090095dc2",
   "metadata": {},
   "outputs": [],
   "source": [
    "predict_train = spam_detect_model.predict(msg_train)"
   ]
  },
  {
   "cell_type": "code",
   "execution_count": 62,
   "id": "c112dbc4-5687-4e56-83e1-24c74e72ea31",
   "metadata": {},
   "outputs": [
    {
     "name": "stdout",
     "output_type": "stream",
     "text": [
      "Classification Report \n",
      "               precision    recall  f1-score   support\n",
      "\n",
      "           0       1.00      1.00      1.00     44673\n",
      "           1       1.00      1.00      1.00     41703\n",
      "\n",
      "    accuracy                           1.00     86376\n",
      "   macro avg       1.00      1.00      1.00     86376\n",
      "weighted avg       1.00      1.00      1.00     86376\n",
      "\n",
      "\n",
      "\n",
      "Confusion Matrix \n",
      " [[44654    19]\n",
      " [  194 41509]]\n",
      "\n",
      "\n",
      "Accuracy of Train dataset : 0.998\n"
     ]
    }
   ],
   "source": [
    "print(\"Classification Report \\n\",metrics.classification_report(label_train, predict_train))\n",
    "print(\"\\n\")\n",
    "print(\"Confusion Matrix \\n\",metrics.confusion_matrix(label_train, predict_train))\n",
    "print(\"\\n\")\n",
    "print(\"Accuracy of Train dataset : {0:0.3f}\".format(metrics.accuracy_score(label_train, predict_train)))"
   ]
  },
  {
   "cell_type": "code",
   "execution_count": 63,
   "id": "671ce81a-bdab-41bf-b241-6f54b0fc1d0a",
   "metadata": {},
   "outputs": [
    {
     "name": "stdout",
     "output_type": "stream",
     "text": [
      "predicted: 1\n",
      "expected: 1\n"
     ]
    }
   ],
   "source": [
    "print('predicted:', spam_detect_model.predict(tfidf4)[0])\n",
    "print('expected:', messages['label'][3])"
   ]
  },
  {
   "cell_type": "code",
   "execution_count": 64,
   "id": "9512b7d0-904d-4c39-ba4b-3ff9aabc39da",
   "metadata": {},
   "outputs": [
    {
     "name": "stdout",
     "output_type": "stream",
     "text": [
      "[1 0 0 ... 0 0 0]\n"
     ]
    }
   ],
   "source": [
    "label_predictions = spam_detect_model.predict(msg_test)\n",
    "print(label_predictions)"
   ]
  },
  {
   "cell_type": "code",
   "execution_count": 65,
   "id": "ac1f38ab-45d3-487e-86b7-45a68c2d3a41",
   "metadata": {},
   "outputs": [
    {
     "name": "stdout",
     "output_type": "stream",
     "text": [
      "              precision    recall  f1-score   support\n",
      "\n",
      "           0       0.99      1.00      1.00     11216\n",
      "           1       1.00      0.99      1.00     10379\n",
      "\n",
      "    accuracy                           1.00     21595\n",
      "   macro avg       1.00      1.00      1.00     21595\n",
      "weighted avg       1.00      1.00      1.00     21595\n",
      "\n",
      "[[11204    12]\n",
      " [   61 10318]]\n"
     ]
    }
   ],
   "source": [
    "print(metrics.classification_report(label_test, label_predictions))\n",
    "print(metrics.confusion_matrix(label_test, label_predictions))"
   ]
  },
  {
   "cell_type": "code",
   "execution_count": 66,
   "id": "9046ffbc-9308-42ab-9c60-05f240a1866a",
   "metadata": {},
   "outputs": [
    {
     "name": "stdout",
     "output_type": "stream",
     "text": [
      "Accuracy of the model : 0.997\n"
     ]
    }
   ],
   "source": [
    "# Printing the Overall Accuracy of the model\n",
    "print(\"Accuracy of the model : {0:0.3f}\".format(metrics.accuracy_score(label_test, label_predictions)))"
   ]
  },
  {
   "cell_type": "markdown",
   "id": "09d26e85-bca7-438b-bbd0-9b02e856f9e8",
   "metadata": {},
   "source": [
    "## Checking Model"
   ]
  },
  {
   "cell_type": "code",
   "execution_count": 71,
   "id": "1c47c714-52bf-4de8-9ed1-58001673c03f",
   "metadata": {},
   "outputs": [
    {
     "name": "stdout",
     "output_type": "stream",
     "text": [
      "  (0, 1760)\t1\n",
      "  (0, 5454)\t1\n",
      "(1, 8723)\n"
     ]
    }
   ],
   "source": [
    "test = bow_transformer.transform([\"Dear we have recieved your payment\"])\n",
    "print(test)\n",
    "print(test.shape)\n",
    "test = tfidf_transformer.transform(test)"
   ]
  },
  {
   "cell_type": "code",
   "execution_count": 72,
   "id": "cec1f012-16ed-4476-a0f2-9765e932e7f3",
   "metadata": {},
   "outputs": [
    {
     "data": {
      "text/plain": [
       "0"
      ]
     },
     "execution_count": 72,
     "metadata": {},
     "output_type": "execute_result"
    }
   ],
   "source": [
    "clf.predict(test)[0]"
   ]
  },
  {
   "cell_type": "markdown",
   "id": "e0242003-b5ee-491a-a570-89a985b4b90d",
   "metadata": {},
   "source": [
    "## Saving Model"
   ]
  },
  {
   "cell_type": "code",
   "execution_count": 73,
   "id": "ce6ace74-750b-420f-b12e-0532453ab756",
   "metadata": {},
   "outputs": [],
   "source": [
    "import pickle"
   ]
  },
  {
   "cell_type": "code",
   "execution_count": 75,
   "id": "9e2ea037-a6c0-423d-8354-c3f85ed88d0f",
   "metadata": {},
   "outputs": [],
   "source": [
    "filename = 'finalized_model.sav'\n",
    "pickle.dump(clf, open(filename, 'wb'))"
   ]
  },
  {
   "cell_type": "markdown",
   "id": "75de8251-94be-4a2e-808c-8e800a8a4fe9",
   "metadata": {},
   "source": [
    "## Saving TF-ID Vectorizer"
   ]
  },
  {
   "cell_type": "code",
   "execution_count": 78,
   "id": "0f0c13ab-1674-423b-a3ef-acac2a1bea38",
   "metadata": {},
   "outputs": [],
   "source": [
    "with open('tfidf_vectorizer.pkl', 'wb') as file:\n",
    "    pickle.dump(bow_transformer, file)"
   ]
  },
  {
   "cell_type": "code",
   "execution_count": 79,
   "id": "4d9dd1e5-60b7-4acd-858e-69a0e99eeee2",
   "metadata": {},
   "outputs": [],
   "source": [
    "with open('messages_bow.pkl', 'wb') as file:\n",
    "    pickle.dump(messages_bow, file)"
   ]
  },
  {
   "cell_type": "code",
   "execution_count": 80,
   "id": "7645134f-c4ba-4ed3-b684-caf5bbb1d3d7",
   "metadata": {},
   "outputs": [],
   "source": [
    "!pip3 freeze > requirements.txt "
   ]
  },
  {
   "cell_type": "code",
   "execution_count": null,
   "id": "d653250d-c9d4-4cde-bac4-60d3940144dd",
   "metadata": {},
   "outputs": [],
   "source": []
  }
 ],
 "metadata": {
  "kernelspec": {
   "display_name": "Python 3 (ipykernel)",
   "language": "python",
   "name": "python3"
  },
  "language_info": {
   "codemirror_mode": {
    "name": "ipython",
    "version": 3
   },
   "file_extension": ".py",
   "mimetype": "text/x-python",
   "name": "python",
   "nbconvert_exporter": "python",
   "pygments_lexer": "ipython3",
   "version": "3.10.12"
  }
 },
 "nbformat": 4,
 "nbformat_minor": 5
}
